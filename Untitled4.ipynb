{
 "cells": [
  {
   "cell_type": "code",
   "execution_count": 26,
   "id": "726581f2-5160-42f0-ab68-8969b7cc7fe0",
   "metadata": {},
   "outputs": [],
   "source": [
    "import pandas as pd\n",
    "from sklearn.datasets import "
   ]
  },
  {
   "cell_type": "code",
   "execution_count": null,
   "id": "bbe2bc48-84c5-4608-b18c-c5048a2457aa",
   "metadata": {},
   "outputs": [],
   "source": []
  }
 ],
 "metadata": {
  "kernelspec": {
   "display_name": "Python 3 (ipykernel)",
   "language": "python",
   "name": "python3"
  },
  "language_info": {
   "codemirror_mode": {
    "name": "ipython",
    "version": 3
   },
   "file_extension": ".py",
   "mimetype": "text/x-python",
   "name": "python",
   "nbconvert_exporter": "python",
   "pygments_lexer": "ipython3",
   "version": "3.12.7"
  }
 },
 "nbformat": 4,
 "nbformat_minor": 5
}
